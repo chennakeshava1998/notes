{
 "cells": [
  {
   "cell_type": "markdown",
   "metadata": {},
   "source": [
    "Tutorial from: https://pytorch.org/tutorials/beginner/blitz/tensor_tutorial.html"
   ]
  },
  {
   "cell_type": "code",
   "execution_count": 52,
   "metadata": {},
   "outputs": [],
   "source": [
    "from __future__ import print_function\n",
    "import numpy as np"
   ]
  },
  {
   "cell_type": "code",
   "execution_count": 4,
   "metadata": {},
   "outputs": [],
   "source": [
    "import torch"
   ]
  },
  {
   "cell_type": "code",
   "execution_count": 7,
   "metadata": {},
   "outputs": [],
   "source": [
    "x = torch.empty(5, 3)"
   ]
  },
  {
   "cell_type": "code",
   "execution_count": 8,
   "metadata": {},
   "outputs": [
    {
     "name": "stdout",
     "output_type": "stream",
     "text": [
      "tensor([[ 0.4276,  0.1721,  0.8967],\n",
      "        [ 0.2128,  0.6588,  0.6611],\n",
      "        [ 0.3224,  0.1946,  0.6332],\n",
      "        [ 0.5129,  0.5492,  0.9913],\n",
      "        [ 0.6156,  0.3300,  0.2688]])\n"
     ]
    }
   ],
   "source": [
    "x = torch.rand(5, 3) # constructs a randomly initilised matrix\n",
    "print(x)"
   ]
  },
  {
   "cell_type": "code",
   "execution_count": 12,
   "metadata": {},
   "outputs": [
    {
     "name": "stdout",
     "output_type": "stream",
     "text": [
      "tensor([[ 0.,  0.,  0.],\n",
      "        [ 0.,  0.,  0.],\n",
      "        [ 0.,  0.,  0.],\n",
      "        [ 0.,  0.,  0.],\n",
      "        [ 0.,  0.,  0.]], dtype=torch.float64)\n"
     ]
    }
   ],
   "source": [
    "x = torch.zeros(5, 3, dtype=torch.double)\n",
    "print(x)"
   ]
  },
  {
   "cell_type": "code",
   "execution_count": 18,
   "metadata": {},
   "outputs": [
    {
     "data": {
      "text/plain": [
       "tensor([ 5.5000,  3.2500], dtype=torch.float64)"
      ]
     },
     "execution_count": 18,
     "metadata": {},
     "output_type": "execute_result"
    }
   ],
   "source": [
    "x = torch.tensor([5.5, 3.25], dtype=torch.double)\n",
    "x"
   ]
  },
  {
   "cell_type": "code",
   "execution_count": 27,
   "metadata": {},
   "outputs": [
    {
     "data": {
      "text/plain": [
       "tensor([[-1.1917, -1.1569,  0.5925],\n",
       "        [-0.0161, -0.3889,  1.8597],\n",
       "        [ 0.0431,  1.3907, -0.0494],\n",
       "        [ 0.0188,  0.1439, -1.2042],\n",
       "        [ 0.2607, -1.1721,  2.2679]])"
      ]
     },
     "execution_count": 27,
     "metadata": {},
     "output_type": "execute_result"
    }
   ],
   "source": [
    "x = torch.randn(5, 3)\n",
    "x"
   ]
  },
  {
   "cell_type": "code",
   "execution_count": 28,
   "metadata": {},
   "outputs": [
    {
     "data": {
      "text/plain": [
       "tensor([[-0.4384, -1.0616,  1.3850],\n",
       "        [-2.0241,  0.4196,  2.7048],\n",
       "        [-0.3530,  0.1821, -0.1414],\n",
       "        [-0.9910,  0.0056,  0.5516],\n",
       "        [ 0.0669, -2.4027,  0.2348]])"
      ]
     },
     "execution_count": 28,
     "metadata": {},
     "output_type": "execute_result"
    }
   ],
   "source": [
    "x = torch.randn_like(x) # fills x with normally distributed random numbers.\n",
    "# Other attributes like input size, layout, device, grad will be obtained from the specified input\n",
    "x"
   ]
  },
  {
   "cell_type": "code",
   "execution_count": 29,
   "metadata": {},
   "outputs": [
    {
     "data": {
      "text/plain": [
       "torch.Size([5, 3])"
      ]
     },
     "execution_count": 29,
     "metadata": {},
     "output_type": "execute_result"
    }
   ],
   "source": [
    "x.size() # this is a tuple."
   ]
  },
  {
   "cell_type": "code",
   "execution_count": 30,
   "metadata": {},
   "outputs": [
    {
     "data": {
      "text/plain": [
       "tensor([[ 0.4857, -1.0076, -1.3438],\n",
       "        [ 0.9766, -0.3393,  0.7213],\n",
       "        [ 0.7549,  1.1650,  1.7177],\n",
       "        [ 1.6920, -0.8659, -2.0226],\n",
       "        [-0.9533,  1.0845, -1.1982]])"
      ]
     },
     "execution_count": 30,
     "metadata": {},
     "output_type": "execute_result"
    }
   ],
   "source": [
    "y = torch.randn(5, 3)\n",
    "y"
   ]
  },
  {
   "cell_type": "code",
   "execution_count": 44,
   "metadata": {},
   "outputs": [
    {
     "name": "stdout",
     "output_type": "stream",
     "text": [
      "tensor([[ 1.0186, -4.0843, -2.6463],\n",
      "        [ 0.9057, -0.5982,  4.8687],\n",
      "        [ 1.9116,  3.6771,  5.0118],\n",
      "        [ 4.0851, -2.5922, -5.5163],\n",
      "        [-2.7929,  0.8508, -3.3599]])\n",
      "tensor([[ 1.0186, -4.0843, -2.6463],\n",
      "        [ 0.9057, -0.5982,  4.8687],\n",
      "        [ 1.9116,  3.6771,  5.0118],\n",
      "        [ 4.0851, -2.5922, -5.5163],\n",
      "        [-2.7929,  0.8508, -3.3599]])\n",
      "tensor([[ 1.0186, -4.0843, -2.6463],\n",
      "        [ 0.9057, -0.5982,  4.8687],\n",
      "        [ 1.9116,  3.6771,  5.0118],\n",
      "        [ 4.0851, -2.5922, -5.5163],\n",
      "        [-2.7929,  0.8508, -3.3599]])\n"
     ]
    }
   ],
   "source": [
    "# Addition\n",
    "print(x + y)\n",
    "print(torch.add(x, y))\n",
    "result = torch.empty(5, 3)\n",
    "torch.add(x, y, out=result) # specifying the out vector\n",
    "print(result)"
   ]
  },
  {
   "cell_type": "code",
   "execution_count": null,
   "metadata": {},
   "outputs": [],
   "source": [
    "# All inplace functions are suffixed by \" _ \"\n",
    "# Ex. of inplace functions: x.copy_(y), x.t_(y), etc.\n",
    "print(x)\n",
    "print(y)\n",
    "x.add_(y)\n",
    "print(x)"
   ]
  },
  {
   "cell_type": "code",
   "execution_count": 35,
   "metadata": {},
   "outputs": [
    {
     "data": {
      "text/plain": [
       "tensor([-3.0768, -0.2589,  2.5121, -1.7263, -0.2337])"
      ]
     },
     "execution_count": 35,
     "metadata": {},
     "output_type": "execute_result"
    }
   ],
   "source": [
    "x[:, 1]"
   ]
  },
  {
   "cell_type": "code",
   "execution_count": 37,
   "metadata": {},
   "outputs": [
    {
     "data": {
      "text/plain": [
       "torch.Size([5, 3])"
      ]
     },
     "execution_count": 37,
     "metadata": {},
     "output_type": "execute_result"
    }
   ],
   "source": [
    "x.size()"
   ]
  },
  {
   "cell_type": "code",
   "execution_count": 40,
   "metadata": {},
   "outputs": [
    {
     "name": "stdout",
     "output_type": "stream",
     "text": [
      "torch.Size([5, 3]) torch.Size([15]) torch.Size([3, 5])\n"
     ]
    }
   ],
   "source": [
    "# Resizing tensors using torch.view(new_size)\n",
    "x_new1 = x.view(15)\n",
    "x_new2 = x.view(-1, 5) # the -1'th dimension is inferred from the other dimensions  \n",
    "print(x.size(), x_new1.size(), x_new2.size())"
   ]
  },
  {
   "cell_type": "code",
   "execution_count": 42,
   "metadata": {},
   "outputs": [
    {
     "name": "stdout",
     "output_type": "stream",
     "text": [
      "tensor(0.5330)\n",
      "0.5329574346542358\n"
     ]
    }
   ],
   "source": [
    "# individual numbers can be accessed using .item() method\n",
    "print(x[0][0])\n",
    "print(x[0][0].item())"
   ]
  },
  {
   "cell_type": "code",
   "execution_count": 46,
   "metadata": {},
   "outputs": [
    {
     "name": "stdout",
     "output_type": "stream",
     "text": [
      "tensor([[ 0.5330, -3.0768, -1.3025],\n",
      "        [-0.0709, -0.2589,  4.1474],\n",
      "        [ 1.1568,  2.5121,  3.2941],\n",
      "        [ 2.3930, -1.7263, -3.4937],\n",
      "        [-1.8396, -0.2337, -2.1617]])\n",
      "[[ 0.53295743 -3.0767727  -1.3025    ]\n",
      " [-0.0709269  -0.2589335   4.1473827 ]\n",
      " [ 1.1567613   2.5120926   3.294065  ]\n",
      " [ 2.3930383  -1.7262814  -3.4936624 ]\n",
      " [-1.8396416  -0.23371553 -2.1616902 ]]\n"
     ]
    }
   ],
   "source": [
    "# converting pytorch tensor to numpy array\n",
    "a = x.numpy()\n",
    "print(x)\n",
    "# Change in the way values are printed indicates the conversion\n",
    "print(a)"
   ]
  },
  {
   "cell_type": "code",
   "execution_count": 50,
   "metadata": {},
   "outputs": [
    {
     "name": "stdout",
     "output_type": "stream",
     "text": [
      "tensor([[ 2.5330, -1.0768,  0.6975],\n",
      "        [ 1.9291,  1.7411,  6.1474],\n",
      "        [ 3.1568,  4.5121,  5.2941],\n",
      "        [ 4.3930,  0.2737, -1.4937],\n",
      "        [ 0.1604,  1.7663, -0.1617]])\n",
      "[[ 2.5329576  -1.0767727   0.6975    ]\n",
      " [ 1.9290731   1.7410665   6.1473827 ]\n",
      " [ 3.1567612   4.5120926   5.294065  ]\n",
      " [ 4.3930383   0.2737186  -1.4936624 ]\n",
      " [ 0.16035843  1.7662845  -0.16169024]]\n"
     ]
    }
   ],
   "source": [
    "# VERY IMP: a becomes a pointer to x. So any changes to the values in x, gets reflected in a also. \n",
    "x.add_(torch.ones(x.size()))\n",
    "print(x)\n",
    "print(a)"
   ]
  },
  {
   "cell_type": "markdown",
   "metadata": {},
   "source": [
    "Conversion from <b>numpy array to pytorch tensor</b>: `torch.from_numpy()`\n"
   ]
  },
  {
   "cell_type": "markdown",
   "metadata": {},
   "source": [
    "any changes to the values in b, gets reflected in y also"
   ]
  },
  {
   "cell_type": "code",
   "execution_count": null,
   "metadata": {},
   "outputs": [],
   "source": [
    "b = np.ones(5)\n",
    "y = torch.empty(5)\n",
    "y = torch.from_numpy(b)\n",
    "y"
   ]
  },
  {
   "cell_type": "code",
   "execution_count": 62,
   "metadata": {},
   "outputs": [
    {
     "name": "stdout",
     "output_type": "stream",
     "text": [
      "False\n"
     ]
    }
   ],
   "source": [
    "print(torch.cuda.is_available())"
   ]
  },
  {
   "cell_type": "markdown",
   "metadata": {},
   "source": [
    "Do Later: Did not understand the CUDA Tensor tutorials properly!"
   ]
  },
  {
   "cell_type": "code",
   "execution_count": null,
   "metadata": {},
   "outputs": [],
   "source": []
  }
 ],
 "metadata": {
  "kernelspec": {
   "display_name": "Python 3",
   "language": "python",
   "name": "python3"
  },
  "language_info": {
   "codemirror_mode": {
    "name": "ipython",
    "version": 3
   },
   "file_extension": ".py",
   "mimetype": "text/x-python",
   "name": "python",
   "nbconvert_exporter": "python",
   "pygments_lexer": "ipython3",
   "version": "3.6.5"
  }
 },
 "nbformat": 4,
 "nbformat_minor": 2
}
